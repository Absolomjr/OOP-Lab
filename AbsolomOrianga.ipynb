{
 "cells": [
  {
   "cell_type": "code",
   "execution_count": 5,
   "metadata": {},
   "outputs": [
    {
     "name": "stdout",
     "output_type": "stream",
     "text": [
      "red\n",
      "this vehicle is red\n"
     ]
    }
   ],
   "source": [
    "#vehicle class\n",
    "class Vehicle:\n",
    "    def __init__(self,color):\n",
    "        self.color =color\n",
    "        \n",
    "    def getColor(self):\n",
    "        return self.color\n",
    "    \n",
    "    def toString(self):\n",
    "        return f\"this vehicle is {self.color}\"\n",
    "    \n",
    "\n",
    "tesla =Vehicle(\"red\")\n",
    "print(tesla.getColor())\n",
    "print(tesla.toString())"
   ]
  },
  {
   "cell_type": "code",
   "execution_count": 8,
   "metadata": {},
   "outputs": [
    {
     "name": "stdout",
     "output_type": "stream",
     "text": [
      "this vehicle is red\n",
      "Has winter tires: True\n"
     ]
    }
   ],
   "source": [
    "#Car class\n",
    "class Car(Vehicle):\n",
    "    def __init__(self, color, has_winter_tires=False):\n",
    "        super().__init__(color)\n",
    "        self.has_winter_tires = has_winter_tires\n",
    "\n",
    "    def toString(self):\n",
    "        vehicle_info = super().toString()\n",
    "        tires_info = f\"Has winter tires: {self.has_winter_tires}\"\n",
    "        return f\"{vehicle_info}\\n{tires_info}\"\n",
    "\n",
    "\n",
    "\n",
    "Toyota= Car(\"red\", True)\n",
    "print(Toyota.toString())"
   ]
  },
  {
   "cell_type": "code",
   "execution_count": 9,
   "metadata": {},
   "outputs": [
    {
     "name": "stdout",
     "output_type": "stream",
     "text": [
      "this vehicle is blue\n",
      "Has trailer: True\n"
     ]
    }
   ],
   "source": [
    "#truck class\n",
    "class Truck(Vehicle):\n",
    "    def __init__(self, color, has_trailer=False):\n",
    "        super().__init__(color)\n",
    "        self.has_trailer = has_trailer\n",
    "\n",
    "    def toString(self):\n",
    "        vehicle_info = super().toString()\n",
    "        trailer_info = f\"Has trailer: {self.has_trailer}\"\n",
    "        return f\"{vehicle_info}\\n{trailer_info}\"\n",
    "\n",
    "\n",
    "my_truck = Truck(\"blue\", True)\n",
    "print(my_truck.toString())"
   ]
  },
  {
   "cell_type": "code",
   "execution_count": 12,
   "metadata": {},
   "outputs": [
    {
     "name": "stdout",
     "output_type": "stream",
     "text": [
      "Description of the parked vehicle:\n",
      "this vehicle is red\n",
      "Has winter tires: True\n",
      "Description of the parked vehicle:\n",
      "this vehicle is blue\n",
      "Has trailer: True\n"
     ]
    }
   ],
   "source": [
    "#Garage Class\n",
    "\n",
    "class Garage:\n",
    "    def __init__(self):\n",
    "        self.parked_vehicle = None\n",
    "\n",
    "    def setVehicle(self, parked):\n",
    "        self.parked_vehicle = parked\n",
    "\n",
    "    def toString(self):\n",
    "        if self.parked_vehicle:\n",
    "            return f\"Description of the parked vehicle:\\n{self.parked_vehicle.toString()}\"\n",
    "        else:\n",
    "            return \"The garage is empty.\"\n",
    "\n",
    "\n",
    "\n",
    "garage = Garage()\n",
    "\n",
    "# Parking a car\n",
    "garage.setVehicle(my_car)\n",
    "print(garage.toString())\n",
    "\n",
    "# Parking a truck\n",
    "garage.setVehicle(my_truck)\n",
    "print(garage.toString())"
   ]
  },
  {
   "cell_type": "code",
   "execution_count": 13,
   "metadata": {},
   "outputs": [
    {
     "name": "stdout",
     "output_type": "stream",
     "text": [
      "Description of the parked vehicle:\n",
      "this vehicle is black\n",
      "Has trailer: False\n"
     ]
    }
   ],
   "source": [
    "#garage Tester Class\n",
    "class GarageTester:\n",
    "    @staticmethod\n",
    "    def getExample(): #defined as @staticmethod because it doesnt an instance \n",
    "        #of the GarageTester to run\n",
    "        # Create a Truck object (black, no trailer)\n",
    "        my_truck = Truck(\"black\", False)\n",
    "        \n",
    "        # Create a Garage object\n",
    "        garage = Garage()\n",
    "        \n",
    "        # Park the Truck in the Garage\n",
    "        garage.setVehicle(my_truck)\n",
    "        \n",
    "        # Print the description of the parked vehicle\n",
    "        print(garage.toString())\n",
    "\n",
    "\n",
    "GarageTester.getExample()\n"
   ]
  },
  {
   "cell_type": "code",
   "execution_count": 16,
   "metadata": {},
   "outputs": [
    {
     "name": "stdout",
     "output_type": "stream",
     "text": [
      "He is Absolom and stays in Mukono\n"
     ]
    }
   ],
   "source": [
    "class Customer:\n",
    "    def __init__(self,name,address):\n",
    "        self.name =name \n",
    "        self.address =address\n",
    "    \n",
    "    #getters are used to retrieve tha name and address\n",
    "    def getName(self):\n",
    "        return self.name\n",
    "\n",
    "    def getAddress(self):\n",
    "        return self.address\n",
    "    #setters are used to update the name and address\n",
    "    def setName(self, name):\n",
    "        self.name = name\n",
    "\n",
    "    def setAddress(self, address):\n",
    "        self.address = address\n",
    "        \n",
    "    def toString(self):\n",
    "        return f\"He is {self.name} and stays in {self.address}\"\n",
    "        \n",
    "customer =Customer(\"Absolom\",\"Mukono\")\n",
    "print(customer.toString())"
   ]
  }
 ],
 "metadata": {
  "kernelspec": {
   "display_name": "Python 3",
   "language": "python",
   "name": "python3"
  },
  "language_info": {
   "codemirror_mode": {
    "name": "ipython",
    "version": 3
   },
   "file_extension": ".py",
   "mimetype": "text/x-python",
   "name": "python",
   "nbconvert_exporter": "python",
   "pygments_lexer": "ipython3",
   "version": "3.12.3"
  }
 },
 "nbformat": 4,
 "nbformat_minor": 2
}
